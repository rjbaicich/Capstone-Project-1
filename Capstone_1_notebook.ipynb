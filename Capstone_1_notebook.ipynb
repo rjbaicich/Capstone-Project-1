{
 "cells": [
  {
   "attachments": {},
   "cell_type": "markdown",
   "metadata": {},
   "source": [
    "#### Randy Baicich                                                                                    "
   ]
  },
  {
   "attachments": {},
   "cell_type": "markdown",
   "metadata": {},
   "source": [
    "# Capstone Project 1: "
   ]
  },
  {
   "attachments": {},
   "cell_type": "markdown",
   "metadata": {},
   "source": [
    "# *Shark Attacks in Coastal Waters*"
   ]
  },
  {
   "attachments": {},
   "cell_type": "markdown",
   "metadata": {},
   "source": [
    "The dataset sourced to be used in this project was originally collected from the Global Shark Attack file on the [Shark Research Institute's website](https://www.sharkattackfile.net). The dataset is available for download from [Kaggle](https://www.kaggle.com/c/shark-attack-dataset)."
   ]
  },
  {
   "attachments": {},
   "cell_type": "markdown",
   "metadata": {},
   "source": [
    "*In this notebook, I will use the Shark Attack dataset to perform a comprehensive analysis of the data. The first step is to import the necessary libraries and modules to facilitate data processing and analysis. Once the dataset is imported, the next step is to ensure that the data is tidy, which involves organizing and cleaning it for further analysis. This includes tasks such as removing unnecessary columns, capitalizing column names, and removing extra spaces. After tidying the data, the next step is to transform it by performing various calculations to derive meaningful insights. This may involve calculating statistics such as counts or averages as well as creating new features based on existing data. I will also attempt to connect to an [ElephantSQL](https://www.elephantsql.com/) instance, to perform queries using the created tables. Once connected to the instance the transformed data is then used to visualize the data. I will create several visualizations, including scatter plots and bar charts, as well as use [Tableu](https://public.tableau.com/app/discover) to explore relationships between different variables and gain insights into the patterns and distributions present in the data. Finally, the last step is to communicate the findings and insights obtained from the analysis. This includes summarizing the key findings, presenting visualizations, and providing interpretations and recommendations based on the results.*"
   ]
  },
  {
   "attachments": {},
   "cell_type": "markdown",
   "metadata": {},
   "source": [
    "# Starting Hypothesis."
   ]
  },
  {
   "attachments": {},
   "cell_type": "markdown",
   "metadata": {},
   "source": [
    "#### *Proceeding the analysis of the Shark Attack dataset, I hypothesize that a select few shark species will be responsible for the majority of shark attacks and fatalities, rather than a wide variety of species. Additionally, I believe that the majority of shark attacks will occur at specific times, indicating a temporal pattern in shark-human interactions. By exploring the data and conducting statistical analysis, I aim to determine if these hypotheses hold true and gain insights into the key factors influencing shark attacks and fatalities.*"
   ]
  },
  {
   "attachments": {},
   "cell_type": "markdown",
   "metadata": {},
   "source": [
    "## Part 1: *Import, Clean, and Save Data.*"
   ]
  },
  {
   "attachments": {},
   "cell_type": "markdown",
   "metadata": {},
   "source": [
    "#### *Import all necessary libraries.*"
   ]
  },
  {
   "cell_type": "code",
   "execution_count": null,
   "metadata": {},
   "outputs": [],
   "source": [
    "import psycopg2\n",
    "import pandas as pd\n",
    "import matplotlib.pyplot as plt"
   ]
  },
  {
   "attachments": {},
   "cell_type": "markdown",
   "metadata": {},
   "source": [
    "#### *Import the sourced Shark Attack data.*"
   ]
  },
  {
   "cell_type": "code",
   "execution_count": null,
   "metadata": {},
   "outputs": [],
   "source": [
    "data = pd.read_csv('C:\\Users\\RedneckRandy\\Documents\\GitHub\\Capstone-Project-1\\GSAF5.xls.csv')\n"
   ]
  },
  {
   "attachments": {},
   "cell_type": "markdown",
   "metadata": {},
   "source": [
    "#### *Clean the CSV file/data.*"
   ]
  },
  {
   "cell_type": "code",
   "execution_count": null,
   "metadata": {},
   "outputs": [],
   "source": [
    "# Capitalize all columns\n",
    "data.columns = [col.capitalize().strip() for col in data.columns]"
   ]
  },
  {
   "cell_type": "code",
   "execution_count": null,
   "metadata": {},
   "outputs": [],
   "source": [
    "# Remove extra space in column names\n",
    "data.columns = data.columns.str.replace(' ', '')"
   ]
  },
  {
   "cell_type": "code",
   "execution_count": null,
   "metadata": {},
   "outputs": [],
   "source": [
    "# Remove columns starting with \"Unnamed\"\n",
    "data = data.loc[:, ~data.columns.str.startswith('Unnamed')]"
   ]
  },
  {
   "cell_type": "code",
   "execution_count": null,
   "metadata": {},
   "outputs": [],
   "source": [
    "# Save the cleaned CSV as 'shark_sorted'\n",
    "data.to_csv('sharks_sorted.csv', index=False)"
   ]
  },
  {
   "attachments": {},
   "cell_type": "markdown",
   "metadata": {},
   "source": [
    "#### *Save the new cleaned CSV.*"
   ]
  },
  {
   "cell_type": "code",
   "execution_count": null,
   "metadata": {},
   "outputs": [],
   "source": [
    "data.to_csv('sharks_sorted.csv', index=False)"
   ]
  },
  {
   "attachments": {},
   "cell_type": "markdown",
   "metadata": {},
   "source": [
    "## Part 2: *Analysis of the data*."
   ]
  },
  {
   "cell_type": "code",
   "execution_count": null,
   "metadata": {},
   "outputs": [],
   "source": [
    "# Count total 'Y' in 'Fatal (Y/N)'\n",
    "total_Y_fatal = data['Fatal(Y/N)'].str.count('Y').sum()"
   ]
  },
  {
   "cell_type": "code",
   "execution_count": null,
   "metadata": {},
   "outputs": [],
   "source": [
    "# Count total 'N' in 'Fatal (Y/N)'\n",
    "total_N_fatal = data['Fatal(Y/N)'].str.count('N').sum()"
   ]
  },
  {
   "cell_type": "code",
   "execution_count": null,
   "metadata": {},
   "outputs": [],
   "source": [
    "# Average 'Age' of total 'Y'\n",
    "average_age_Y_fatal = data.loc[data['Fatal(Y/N)'] == 'Y', 'Age'].mean()"
   ]
  },
  {
   "cell_type": "code",
   "execution_count": null,
   "metadata": {},
   "outputs": [],
   "source": [
    "# Total count for each unique value in 'Location' column\n",
    "location_totals = data['Location'].value_counts()"
   ]
  },
  {
   "cell_type": "code",
   "execution_count": null,
   "metadata": {},
   "outputs": [],
   "source": [
    "# Total count for each unique value in 'Species' column\n",
    "species_totals = data['Species'].value_counts()"
   ]
  },
  {
   "cell_type": "code",
   "execution_count": null,
   "metadata": {},
   "outputs": [],
   "source": [
    "# Total count for each unique value in 'Activity' column\n",
    "activity_totals = data['Activity'].value_counts()"
   ]
  },
  {
   "cell_type": "code",
   "execution_count": null,
   "metadata": {},
   "outputs": [],
   "source": [
    "# Total count for each unique value in 'Type' column\n",
    "type_totals = data['Type'].value_counts()"
   ]
  },
  {
   "cell_type": "code",
   "execution_count": null,
   "metadata": {},
   "outputs": [],
   "source": [
    "# Average of \"Time\"\n",
    "time_average = data['Time'].mean()"
   ]
  },
  {
   "attachments": {},
   "cell_type": "markdown",
   "metadata": {},
   "source": [
    "# Part 3: *Connecting to the database as well as Creating and Inserting into tables.*"
   ]
  },
  {
   "attachments": {},
   "cell_type": "markdown",
   "metadata": {},
   "source": [
    "#### *Connect to ElephantSQL*"
   ]
  },
  {
   "cell_type": "code",
   "execution_count": null,
   "metadata": {},
   "outputs": [],
   "source": [
    "conn = psycopg2.connect(dbname='gblqlzwo',\n",
    "                        user='gblqlzwo',\n",
    "                        password='UkEdnFRHD1w6hKODlEDEqHMIKujC814K',\n",
    "                        host='rajje.db.elephantsql.com')\n",
    "cur = conn.cursor()"
   ]
  },
  {
   "attachments": {},
   "cell_type": "markdown",
   "metadata": {},
   "source": [
    "#### *Create neccessary tables.*"
   ]
  },
  {
   "cell_type": "code",
   "execution_count": null,
   "metadata": {},
   "outputs": [],
   "source": [
    "# Define the columns for the table\n",
    "columns = ['index', 'Case Number', 'Date', 'Year', 'Type', 'Country', 'Area', 'Location', 'Activity', 'Name',\n",
    "           'Unnamed: 9', 'Age', 'Injury', 'Fatal (Y/N)', 'Time', 'Species', 'Investigator or Source', 'pdf',\n",
    "           'href formula', 'href', 'Case Number.1', 'Case Number.2', 'original order']\n",
    "\n",
    "create_table_query = '''\n",
    "    CREATE TABLE shark_data(\n",
    "        \"index\" INT,\n",
    "        \"Case Number\" VARCHAR(100),\n",
    "        \"Date\" VARCHAR(100),\n",
    "        \"Year\" INT,\n",
    "        \"Type\" VARCHAR(100),\n",
    "        \"Country\" VARCHAR(100),\n",
    "        \"Area\" VARCHAR(100),\n",
    "        \"Location\" VARCHAR(100),\n",
    "        \"Activity\" VARCHAR(100),\n",
    "        \"Name\" VARCHAR(100),\n",
    "        \"Unnamed: 9\" VARCHAR(100),\n",
    "        \"Age\" VARCHAR(100),\n",
    "        \"Injury\" VARCHAR(100),\n",
    "        \"Fatal (Y/N)\" VARCHAR(100),\n",
    "        \"Time\" VARCHAR(100),\n",
    "        \"Species\" VARCHAR(100),\n",
    "        \"Investigator or Source\" VARCHAR(100),\n",
    "        \"pdf\" VARCHAR(100),\n",
    "        \"href formula\" VARCHAR(100),\n",
    "        \"href\" VARCHAR(100),\n",
    "        \"Case Number.1\" VARCHAR(100),\n",
    "        \"Case Number.2\" VARCHAR(100),\n",
    "        \"original order\" INT\n",
    "    )\n",
    "'''\n",
    "cur.execute(create_table_query)"
   ]
  },
  {
   "attachments": {},
   "cell_type": "markdown",
   "metadata": {},
   "source": [
    "#### *Insert into the created table.*"
   ]
  },
  {
   "cell_type": "code",
   "execution_count": null,
   "metadata": {},
   "outputs": [],
   "source": [
    "for _, row in data[columns].iterrows():\n",
    "    insert_query = '''\n",
    "        INSERT INTO shark_data (\"Index\", \"Case Number\", \"Date\", \"Year\", \"Type\", \"Country\", \"Area\", \"Location\",\n",
    "                                 \"Activity\", \"Name\", \"Age\", \"Injury\", \"Fatal(Y/N)\", \"Time\", \"Species\",\n",
    "                                 \"Investigator or Source\", \"Pdf\", \"Href formula\", \"Href\", \"Case Number.1\",\n",
    "                                 \"Case Number.2\", \"Original order\")\n",
    "        VALUES (%s, %s, %s, %s, %s, %s, %s, %s, %s, %s, %s, %s, %s, %s, %s, %s, %s, %s, %s, %s, %s, %s)\n",
    "    '''\n",
    "    cur.execute(insert_query, tuple(row))\n",
    "\n",
    "conn.commit()"
   ]
  },
  {
   "attachments": {},
   "cell_type": "markdown",
   "metadata": {},
   "source": [
    "# Part 4: *Visualize the data and communicate your results.*"
   ]
  },
  {
   "attachments": {},
   "cell_type": "markdown",
   "metadata": {},
   "source": [
    "#### *Visualization 1: Species vs Type of Attack.*"
   ]
  },
  {
   "cell_type": "code",
   "execution_count": null,
   "metadata": {},
   "outputs": [],
   "source": [
    "plt.figure(figsize=(10, 6))\n",
    "plt.scatter(data['Species'], data['Type'])\n",
    "plt.xlabel('Species')\n",
    "plt.ylabel('Type')\n",
    "plt.title('Species vs Type')\n",
    "plt.xticks(rotation=90)\n",
    "plt.show()"
   ]
  },
  {
   "attachments": {},
   "cell_type": "markdown",
   "metadata": {},
   "source": [
    "#### *Visualization 2: Type of Attack vs Activity Being Performed.*"
   ]
  },
  {
   "cell_type": "code",
   "execution_count": null,
   "metadata": {},
   "outputs": [],
   "source": [
    "plt.figure(figsize=(10, 6))\n",
    "plt.scatter(data['Type'], data['Activity'])\n",
    "plt.xlabel('Type')\n",
    "plt.ylabel('Activity')\n",
    "plt.title('Type vs Activity')\n",
    "plt.xticks(rotation=90)\n",
    "plt.show()"
   ]
  },
  {
   "attachments": {},
   "cell_type": "markdown",
   "metadata": {},
   "source": [
    "#### *Visualization 3: Total Fatalities.*"
   ]
  },
  {
   "cell_type": "code",
   "execution_count": null,
   "metadata": {},
   "outputs": [],
   "source": [
    "fatal_counts = data['Fatal (Y/N)'].value_counts()\n",
    "plt.figure(figsize=(6, 6))\n",
    "plt.bar(['Y', 'N'], fatal_counts)\n",
    "plt.xlabel('Fatal')\n",
    "plt.ylabel('Count')\n",
    "plt.title('Fatal (Y/N) Distribution')\n",
    "plt.show()"
   ]
  },
  {
   "attachments": {},
   "cell_type": "markdown",
   "metadata": {},
   "source": [
    "#### *Visualization 4: Fatalities by Species.*"
   ]
  },
  {
   "cell_type": "code",
   "execution_count": null,
   "metadata": {},
   "outputs": [],
   "source": [
    "species_fatal_counts = data.groupby('Species')['Fatal (Y/N)'].value_counts().unstack().fillna(0)\n",
    "plt.figure(figsize=(10, 6))\n",
    "species_fatal_counts.plot(kind='bar', stacked=True)\n",
    "plt.xlabel('Species')\n",
    "plt.ylabel('Count')\n",
    "plt.title('Species vs Fatal (Y/N)')\n",
    "plt.xticks(rotation=90)\n",
    "plt.legend(title='Fatal (Y/N)')\n",
    "plt.show()"
   ]
  },
  {
   "attachments": {},
   "cell_type": "markdown",
   "metadata": {},
   "source": [
    "#### *Close Connections*"
   ]
  },
  {
   "cell_type": "code",
   "execution_count": null,
   "metadata": {},
   "outputs": [],
   "source": [
    "cur.close()\n",
    "conn.close()"
   ]
  },
  {
   "attachments": {},
   "cell_type": "markdown",
   "metadata": {},
   "source": [
    "# Part 5: *Final Results, Summary, and Conclusion.*"
   ]
  },
  {
   "attachments": {},
   "cell_type": "markdown",
   "metadata": {},
   "source": []
  }
 ],
 "metadata": {
  "kernelspec": {
   "display_name": "Python 3",
   "language": "python",
   "name": "python3"
  },
  "language_info": {
   "name": "python",
   "version": "3.11.3"
  },
  "orig_nbformat": 4
 },
 "nbformat": 4,
 "nbformat_minor": 2
}
